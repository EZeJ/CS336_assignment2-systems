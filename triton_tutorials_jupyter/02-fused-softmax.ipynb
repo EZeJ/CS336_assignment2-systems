{
  "cells": [
    {
      "cell_type": "markdown",
      "metadata": {},
      "source": [
        "\n",
        "# Fused Softmax\n",
        "\n",
        "In this tutorial, you will write a fused softmax operation that is significantly faster\n",
        "than PyTorch's native op for a particular class of matrices: those whose rows can fit in\n",
        "the GPU's SRAM.\n",
        "\n",
        "In doing so, you will learn about:\n",
        "\n",
        "* The benefits of kernel fusion for bandwidth-bound operations.\n",
        "\n",
        "* Reduction operators in Triton.\n"
      ]
    },
    {
      "cell_type": "markdown",
      "metadata": {},
      "source": [
        "## Motivations\n",
        "\n",
        "Custom GPU kernels for elementwise additions are educationally valuable but won't get you very far in practice.\n",
        "Let us consider instead the case of a simple (numerically stabilized) softmax operation:\n",
        "\n"
      ]
    },
    {
      "cell_type": "code",
      "execution_count": 54,
      "metadata": {
        "collapsed": false
      },
      "outputs": [],
      "source": [
        "import torch\n",
        "\n",
        "import triton\n",
        "import triton.language as tl\n",
        "from triton.runtime import driver\n",
        "\n",
        "DEVICE = triton.runtime.driver.active.get_active_torch_device()\n",
        "\n",
        "def is_hip():\n",
        "    return triton.runtime.driver.active.get_current_target().backend == \"hip\"\n",
        "\n",
        "\n",
        "def is_cdna():\n",
        "    return is_hip() and triton.runtime.driver.active.get_current_target().arch in ('gfx940', 'gfx941', 'gfx942',\n",
        "                                                                                   'gfx90a', 'gfx908')\n",
        "\n",
        "\n",
        "def naive_softmax(x):\n",
        "    \"\"\"Compute row-wise softmax of X using native pytorch\n",
        "\n",
        "    We subtract the maximum element in order to avoid overflows. Softmax is invariant to\n",
        "    this shift.\n",
        "    \"\"\"\n",
        "    # read  MN elements ; write M  elements\n",
        "    x_max = x.max(dim=1)[0]\n",
        "    # read MN + M elements ; write MN elements\n",
        "    z = x - x_max[:, None]\n",
        "    # read  MN elements ; write MN elements\n",
        "    numerator = torch.exp(z)\n",
        "    # read  MN elements ; write M  elements\n",
        "    denominator = numerator.sum(dim=1)\n",
        "    # read MN + M elements ; write MN elements\n",
        "    ret = numerator / denominator[:, None]\n",
        "    # in total: read 5MN + 2M elements ; wrote 3MN + 2M elements\n",
        "    return ret"
      ]
    },
    {
      "cell_type": "markdown",
      "metadata": {},
      "source": [
        "When implemented naively in PyTorch, computing :code:`y = naive_softmax(x)` for $x \\in R^{M \\times N}$\n",
        "requires reading $5MN + 2M$ elements from DRAM and writing back $3MN + 2M$ elements.\n",
        "This is obviously wasteful; we'd prefer to have a custom \"fused\" kernel that only reads\n",
        "X once and does all the necessary computations on-chip.\n",
        "Doing so would require reading and writing back only $MN$ bytes, so we could\n",
        "expect a theoretical speed-up of ~4x (i.e., $(8MN + 4M) / 2MN$).\n",
        "The `torch.jit.script` flags aims to perform this kind of \"kernel fusion\" automatically\n",
        "but, as we will see later, it is still far from ideal.\n",
        "\n"
      ]
    },
    {
      "cell_type": "markdown",
      "metadata": {},
      "source": [
        "## Compute Kernel\n",
        "\n",
        "Our softmax kernel works as follows: each program loads a set of rows of the input matrix X strided by number of programs,\n",
        "normalizes it and writes back the result to the output Y.\n",
        "\n",
        "Note that one important limitation of Triton is that each block must have a\n",
        "power-of-two number of elements, so we need to internally \"pad\" each row and guard the\n",
        "memory operations properly if we want to handle any possible input shapes:\n",
        "\n"
      ]
    },
    {
      "cell_type": "code",
      "execution_count": 55,
      "metadata": {
        "collapsed": false
      },
      "outputs": [],
      "source": [
        "@triton.jit\n",
        "def softmax_kernel(output_ptr, input_ptr, input_row_stride, output_row_stride, n_rows, n_cols, BLOCK_SIZE: tl.constexpr,\n",
        "                   num_stages: tl.constexpr):\n",
        "    # starting row of the program\n",
        "    row_start = tl.program_id(0)\n",
        "    row_step = tl.num_programs(0)\n",
        "    for row_idx in tl.range(row_start, n_rows, row_step, num_stages=num_stages):\n",
        "        # The stride represents how much we need to increase the pointer to advance 1 row\n",
        "        row_start_ptr = input_ptr + row_idx * input_row_stride\n",
        "        # The block size is the next power of two greater than n_cols, so we can fit each\n",
        "        # row in a single block\n",
        "        col_offsets = tl.arange(0, BLOCK_SIZE)\n",
        "        input_ptrs = row_start_ptr + col_offsets\n",
        "        # Load the row into SRAM, using a mask since BLOCK_SIZE may be > than n_cols\n",
        "        mask = col_offsets < n_cols\n",
        "        row = tl.load(input_ptrs, mask=mask, other=-float('inf'))\n",
        "        # Subtract maximum for numerical stability\n",
        "        row_minus_max = row - tl.max(row, axis=0)\n",
        "        # Note that exponentiation in Triton is fast but approximate (i.e., think __expf in CUDA)\n",
        "        numerator = tl.exp(row_minus_max)\n",
        "        denominator = tl.sum(numerator, axis=0)\n",
        "        softmax_output = numerator / denominator\n",
        "        # Write back output to DRAM\n",
        "        output_row_start_ptr = output_ptr + row_idx * output_row_stride\n",
        "        output_ptrs = output_row_start_ptr + col_offsets\n",
        "        tl.store(output_ptrs, softmax_output, mask=mask)"
      ]
    },
    {
      "cell_type": "markdown",
      "metadata": {},
      "source": [
        "We can create a helper function that enqueues the kernel and its (meta-)arguments for any given input tensor.\n",
        "\n"
      ]
    },
    {
      "cell_type": "code",
      "execution_count": 56,
      "metadata": {},
      "outputs": [
        {
          "name": "stdout",
          "output_type": "stream",
          "text": [
            "3.3.1\n"
          ]
        }
      ],
      "source": [
        "import triton\n",
        "print(triton.__version__)"
      ]
    },
    {
      "cell_type": "code",
      "execution_count": 57,
      "metadata": {},
      "outputs": [
        {
          "data": {
            "text/plain": [
              "{'max_shared_mem': 101376,\n",
              " 'max_num_regs': 65536,\n",
              " 'multiprocessor_count': 68,\n",
              " 'warpSize': 32,\n",
              " 'sm_clock_rate': 1710000,\n",
              " 'mem_clock_rate': 9501000,\n",
              " 'mem_bus_width': 320}"
            ]
          },
          "execution_count": 57,
          "metadata": {},
          "output_type": "execute_result"
        }
      ],
      "source": [
        "driver.active.utils.get_device_properties(DEVICE.index)"
      ]
    },
    {
      "cell_type": "code",
      "execution_count": 64,
      "metadata": {
        "collapsed": false
      },
      "outputs": [],
      "source": [
        "properties = driver.active.utils.get_device_properties(DEVICE.index)\n",
        "NUM_SM = properties[\"multiprocessor_count\"]\n",
        "NUM_REGS = properties[\"max_num_regs\"]\n",
        "SIZE_SMEM = properties[\"max_shared_mem\"]\n",
        "WARP_SIZE = properties[\"warpSize\"]\n",
        "target = triton.runtime.driver.active.get_current_target()\n",
        "kernels = {}\n",
        "\n",
        "\n",
        "def softmax(x):\n",
        "    n_rows, n_cols = x.shape\n",
        "\n",
        "    # The block size of each loop iteration is the smallest power of two greater than the number of columns in `x`\n",
        "    BLOCK_SIZE = triton.next_power_of_2(n_cols)\n",
        "\n",
        "    # Another trick we can use is to ask the compiler to use more threads per row by\n",
        "    # increasing the number of warps (`num_warps`) over which each row is distributed.\n",
        "    # You will see in the next tutorial how to auto-tune this value in a more natural\n",
        "    # way so you don't have to come up with manual heuristics yourself.\n",
        "    num_warps = 8\n",
        "\n",
        "    # Number of software pipelining stages.\n",
        "    num_stages = 4 if SIZE_SMEM > 200000 else 2\n",
        "\n",
        "    # Allocate output\n",
        "    y = torch.empty_like(x)\n",
        "\n",
        "    # pre-compile kernel to get register usage and compute thread occupancy.\n",
        "    kernel = softmax_kernel.warmup(y, x, x.stride(0), y.stride(0), n_rows, n_cols, BLOCK_SIZE=BLOCK_SIZE,\n",
        "                                   num_stages=num_stages, num_warps=num_warps, grid=(1, ))\n",
        "    kernel._init_handles()\n",
        "    n_regs = kernel.n_regs\n",
        "    size_smem = kernel.metadata.shared\n",
        "    if is_hip():\n",
        "        # NUM_REGS represents the number of regular purpose registers. On CDNA architectures this is half of all registers available.\n",
        "        # However, this is not always the case. In most cases all registers can be used as regular purpose registers.\n",
        "        # ISA SECTION (3.6.4 for CDNA3)\n",
        "        # VGPRs are allocated out of two pools: regular VGPRs and accumulation VGPRs. Accumulation VGPRs are used\n",
        "        # with matrix VALU instructions, and can also be loaded directly from memory. A wave may have up to 512 total\n",
        "        # VGPRs, 256 of each type. When a wave has fewer than 512 total VGPRs, the number of each type is flexible - it is\n",
        "        # not required to be equal numbers of both types.\n",
        "        NUM_GPRS = NUM_REGS\n",
        "        if is_cdna():\n",
        "            NUM_GPRS = NUM_REGS * 2\n",
        "\n",
        "        # MAX_NUM_THREADS represents maximum number of resident threads per multi-processor.\n",
        "        # When we divide this number with WARP_SIZE we get maximum number of waves that can\n",
        "        # execute on a CU (multi-processor)  in parallel.\n",
        "        MAX_NUM_THREADS = properties[\"max_threads_per_sm\"]\n",
        "        max_num_waves = MAX_NUM_THREADS // WARP_SIZE\n",
        "        occupancy = min(NUM_GPRS // WARP_SIZE // n_regs, max_num_waves) // num_warps\n",
        "    else:\n",
        "        occupancy = NUM_REGS // (n_regs * WARP_SIZE * num_warps)\n",
        "    \n",
        "    occupancy = min(occupancy, SIZE_SMEM // size_smem)\n",
        "    num_programs = NUM_SM * occupancy\n",
        "\n",
        "    num_programs = min(num_programs, n_rows)\n",
        "\n",
        "    # Create a number of persistent programs.\n",
        "    kernel[(num_programs, 1, 1)](y, x, x.stride(0), y.stride(0), n_rows, n_cols, BLOCK_SIZE, num_stages)\n",
        "    return y"
      ]
    },
    {
      "cell_type": "markdown",
      "metadata": {},
      "source": [
        "## Unit Test\n",
        "\n"
      ]
    },
    {
      "cell_type": "markdown",
      "metadata": {},
      "source": [
        "We make sure that we test our kernel on a matrix with an irregular number of rows and columns.\n",
        "This will allow us to verify that our padding mechanism works.\n",
        "\n"
      ]
    },
    {
      "cell_type": "code",
      "execution_count": 65,
      "metadata": {
        "collapsed": false
      },
      "outputs": [
        {
          "name": "stdout",
          "output_type": "stream",
          "text": [
            "24\n"
          ]
        }
      ],
      "source": [
        "torch.manual_seed(0)\n",
        "x = torch.randn(1823, 781, device=DEVICE)\n",
        "y_triton = softmax(x)\n",
        "y_torch = torch.softmax(x, axis=1)\n",
        "assert torch.allclose(y_triton, y_torch), (y_triton, y_torch)"
      ]
    },
    {
      "cell_type": "markdown",
      "metadata": {},
      "source": [
        "As expected, the results are identical.\n",
        "\n"
      ]
    },
    {
      "cell_type": "markdown",
      "metadata": {},
      "source": [
        "## Benchmark\n",
        "\n",
        "Here we will benchmark our operation as a function of the number of columns in the input matrix -- assuming 4096 rows.\n",
        "We will then compare its performance against (1) :code:`torch.softmax` and (2) the :code:`naive_softmax` defined above.\n",
        "\n"
      ]
    },
    {
      "cell_type": "code",
      "execution_count": 12,
      "metadata": {
        "collapsed": false
      },
      "outputs": [
        {
          "data": {
            "image/png": "[encoded data removed]",
            "text/plain": [
              "<Figure size 640x480 with 1 Axes>"
            ]
          },
          "metadata": {},
          "output_type": "display_data"
        },
        {
          "name": "stdout",
          "output_type": "stream",
          "text": [
            "softmax-performance:\n",
            "          N      Triton       Torch\n",
            "0     256.0  322.807218  538.034045\n",
            "1     384.0  513.822451  566.197022\n",
            "2     512.0  562.625963  595.942277\n",
            "3     640.0  588.058839  616.136022\n",
            "4     768.0  607.990568  635.265166\n",
            "5     896.0  617.617910  637.985793\n",
            "6    1024.0  623.144246  648.493910\n",
            "7    1152.0  612.840469  326.204435\n",
            "8    1280.0  627.456165  362.192109\n",
            "9    1408.0  637.545451  391.875861\n",
            "10   1536.0  637.508813  420.230279\n",
            "11   1664.0  642.694349  435.411196\n",
            "12   1792.0  641.293089  465.706738\n",
            "13   1920.0  643.217731  485.996362\n",
            "14   2048.0  647.618225  511.893332\n",
            "15   2176.0  625.803068  514.489883\n",
            "16   2304.0  635.608970  546.317230\n",
            "17   2432.0  640.858057  569.324407\n",
            "18   2560.0  641.372093  582.507344\n",
            "19   2688.0  647.934578  588.532697\n",
            "20   2816.0  649.730428  603.779459\n",
            "21   2944.0  653.693931  618.539350\n",
            "22   3072.0  656.098099  625.518930\n",
            "23   3200.0  659.366713  607.489793\n",
            "24   3328.0  620.528073  643.380001\n",
            "25   3456.0  660.784281  650.230535\n",
            "26   3584.0  661.370812  656.443506\n",
            "27   3712.0  663.185750  662.960879\n",
            "28   3840.0  661.350136  670.349983\n",
            "29   3968.0  663.774325  673.033288\n",
            "30   4096.0  662.731337  678.957408\n",
            "31   4224.0  665.107964  613.511319\n",
            "32   4352.0  664.902146  632.657108\n",
            "33   4480.0  666.515070  617.010146\n",
            "34   4608.0  666.536424  635.697935\n",
            "35   4736.0  668.215345  633.391723\n",
            "36   4864.0  667.121867  650.845155\n",
            "37   4992.0  667.401184  653.968222\n",
            "38   5120.0  623.012354  657.923164\n",
            "39   5248.0  668.695196  664.763453\n",
            "40   5376.0  669.170654  672.372226\n",
            "41   5504.0  668.608279  674.439452\n",
            "42   5632.0  669.880161  678.314793\n",
            "43   5760.0  669.950523  676.862289\n",
            "44   5888.0  670.227361  673.585901\n",
            "45   6016.0  670.738462  673.793276\n",
            "46   6144.0  670.642996  673.664820\n",
            "47   6272.0  671.135828  672.849126\n",
            "48   6400.0  671.384954  673.132080\n",
            "49   6528.0  670.873957  672.882052\n",
            "50   6656.0  671.518526  673.434786\n",
            "51   6784.0  626.374366  665.302936\n",
            "52   6912.0  671.263439  672.970005\n",
            "53   7040.0  671.045076  672.942324\n",
            "54   7168.0  672.052602  672.874496\n",
            "55   7296.0  671.940385  672.112466\n",
            "56   7424.0  671.740052  672.955989\n",
            "57   7552.0  672.302341  673.660909\n",
            "58   7680.0  671.968909  673.358407\n",
            "59   7808.0  671.440553  672.770402\n",
            "60   7936.0  672.409497  671.524712\n",
            "61   8064.0  672.043327  671.676232\n",
            "62   8192.0  671.106540  673.014404\n",
            "63   8320.0  614.491240  662.595006\n",
            "64   8448.0  658.513994  669.723660\n",
            "65   8576.0  658.267382  669.744191\n",
            "66   8704.0  658.468434  670.430895\n",
            "67   8832.0  658.964423  669.566771\n",
            "68   8960.0  658.100290  670.720352\n",
            "69   9088.0  657.867539  671.017993\n",
            "70   9216.0  657.325507  671.255315\n",
            "71   9344.0  658.430836  670.560127\n",
            "72   9472.0  657.295681  671.785406\n",
            "73   9600.0  657.436448  671.113307\n",
            "74   9728.0  657.939963  629.058907\n",
            "75   9856.0  650.825122  671.885671\n",
            "76   9984.0  657.783410  673.149967\n",
            "77  10112.0  657.780157  673.920827\n",
            "78  10240.0  657.388527  674.065312\n",
            "79  10368.0  658.531798  674.205400\n",
            "80  10496.0  658.027675  673.865849\n",
            "81  10624.0  658.259760  674.631190\n",
            "82  10752.0  658.064199  675.021339\n",
            "83  10880.0  657.575100  674.854618\n",
            "84  11008.0  659.011238  675.095474\n",
            "85  11136.0  659.163879  631.743068\n",
            "86  11264.0  650.377960  675.621545\n",
            "87  11392.0  658.976196  676.110379\n",
            "88  11520.0  658.406787  676.052249\n",
            "89  11648.0  656.680788  676.611606\n",
            "90  11776.0  657.343087  676.830819\n",
            "91  11904.0  657.443380  676.917026\n",
            "92  12032.0  656.938974  677.247930\n",
            "93  12160.0  659.019291  677.628951\n",
            "94  12288.0  657.614783  665.010178\n",
            "95  12416.0  657.040191  618.768544\n",
            "96  12544.0  614.029873  613.123120\n",
            "97  12672.0  656.765200  605.877410\n"
          ]
        }
      ],
      "source": [
        "@triton.testing.perf_report(\n",
        "    triton.testing.Benchmark(\n",
        "        x_names=['N'],  # argument names to use as an x-axis for the plot\n",
        "        x_vals=[128 * i for i in range(2, 100)],  # different possible values for `x_name`\n",
        "        line_arg='provider',  # argument name whose value corresponds to a different line in the plot\n",
        "        line_vals=['triton', 'torch'],  # possible values for `line_arg``\n",
        "        line_names=[\n",
        "            \"Triton\",\n",
        "            \"Torch\",\n",
        "        ],  # label name for the lines\n",
        "        styles=[('blue', '-'), ('green', '-')],  # line styles\n",
        "        ylabel=\"GB/s\",  # label name for the y-axis\n",
        "        plot_name=\"softmax-performance\",  # name for the plot. Used also as a file name for saving the plot.\n",
        "        args={'M': 4096},  # values for function arguments not in `x_names` and `y_name`\n",
        "    ))\n",
        "def benchmark(M, N, provider):\n",
        "    x = torch.randn(M, N, device=DEVICE, dtype=torch.float32)\n",
        "    stream = getattr(torch, DEVICE.type).Stream()\n",
        "    getattr(torch, DEVICE.type).set_stream(stream)\n",
        "    if provider == 'torch':\n",
        "        ms = triton.testing.do_bench(lambda: torch.softmax(x, axis=-1))\n",
        "    if provider == 'triton':\n",
        "        ms = triton.testing.do_bench(lambda: softmax(x))\n",
        "    gbps = lambda ms: 2 * x.numel() * x.element_size() * 1e-9 / (ms * 1e-3)\n",
        "    return gbps(ms)\n",
        "\n",
        "\n",
        "benchmark.run(show_plots=True, print_data=True)"
      ]
    },
    {
      "cell_type": "markdown",
      "metadata": {},
      "source": [
        "In the above plot, we can see that:\n",
        " - Triton is 4x faster than the Torch JIT. This confirms our suspicions that the Torch JIT does not do any fusion here.\n",
        " - Triton is noticeably faster than :code:`torch.softmax` -- in addition to being **easier to read, understand and maintain**.\n",
        "   Note however that the PyTorch `softmax` operation is more general and will work on tensors of any shape.\n",
        "\n"
      ]
    },
    {
      "cell_type": "markdown",
      "metadata": {},
      "source": [
        "# Reproduce"
      ]
    },
    {
      "cell_type": "markdown",
      "metadata": {},
      "source": [
        "This is for comparing between Pytorch Naive version of softmax and Triton version of softmax"
      ]
    },
    {
      "cell_type": "markdown",
      "metadata": {},
      "source": [
        "## Get System Information"
      ]
    },
    {
      "cell_type": "code",
      "execution_count": 93,
      "metadata": {},
      "outputs": [],
      "source": [
        "import torch\n",
        "import triton\n",
        "import triton.language as tl\n",
        "from triton.runtime import driver"
      ]
    },
    {
      "cell_type": "code",
      "execution_count": 94,
      "metadata": {},
      "outputs": [
        {
          "name": "stdout",
          "output_type": "stream",
          "text": [
            "cuda:0\n"
          ]
        }
      ],
      "source": [
        "DEVICE = triton.runtime.driver.active.get_active_torch_device()\n",
        "print(DEVICE)"
      ]
    },
    {
      "cell_type": "code",
      "execution_count": 95,
      "metadata": {},
      "outputs": [],
      "source": [
        "# For AMD GPU\n",
        "def is_hip():\n",
        "    return triton.runtime.driver.active.get_current_target().backend == \"hip\"\n",
        "\n",
        "\n",
        "def is_cdna():\n",
        "    return is_hip() and triton.runtime.driver.active.get_current_target().arch in ('gfx940', 'gfx941', 'gfx942',\n",
        "                                                                                   'gfx90a', 'gfx908')"
      ]
    },
    {
      "cell_type": "code",
      "execution_count": 96,
      "metadata": {},
      "outputs": [],
      "source": [
        "torch.manual_seed(0)\n",
        "x = torch.randn(1823, 781, device=DEVICE)"
      ]
    },
    {
      "cell_type": "code",
      "execution_count": 97,
      "metadata": {},
      "outputs": [
        {
          "data": {
            "text/plain": [
              "torch.return_types.max(\n",
              "values=tensor([3.3156, 2.7486, 3.1057,  ..., 2.8307, 3.4152, 3.2924], device='cuda:0'),\n",
              "indices=tensor([254, 447,  15,  ..., 767, 468, 117], device='cuda:0'))"
            ]
          },
          "execution_count": 97,
          "metadata": {},
          "output_type": "execute_result"
        }
      ],
      "source": [
        "x.max(dim=1)"
      ]
    },
    {
      "cell_type": "code",
      "execution_count": 98,
      "metadata": {},
      "outputs": [
        {
          "data": {
            "text/plain": [
              "torch.Size([1823, 781])"
            ]
          },
          "execution_count": 98,
          "metadata": {},
          "output_type": "execute_result"
        }
      ],
      "source": [
        "x.shape"
      ]
    },
    {
      "cell_type": "markdown",
      "metadata": {},
      "source": [
        "## Naive version of computing all elements then do division"
      ]
    },
    {
      "cell_type": "code",
      "execution_count": 99,
      "metadata": {},
      "outputs": [],
      "source": [
        "def naive_softmax(x):\n",
        "    x_max = x.max(dim=1)[0] # [0] get the value only, [1] get the index\n",
        "    z = x - x_max[:, None] # [:, None] add a new dimension at the end match the 2D shape of x\n",
        "    numerator = torch.exp(z)\n",
        "    denominator = numerator.sum(dim=1) # dim = 1 means sum along the second dimension\n",
        "    ret = numerator / denominator[:, None]\n",
        "    return ret"
      ]
    },
    {
      "cell_type": "code",
      "execution_count": 100,
      "metadata": {},
      "outputs": [
        {
          "data": {
            "text/plain": [
              "tensor([[3.2747e-04, 5.3954e-04, 5.8687e-05,  ..., 5.5490e-04, 2.0330e-04,\n",
              "         9.4091e-04],\n",
              "        [8.6914e-04, 1.1075e-03, 1.0202e-04,  ..., 1.1470e-04, 5.5436e-04,\n",
              "         8.6046e-04],\n",
              "        [1.4101e-03, 1.0511e-03, 1.7031e-03,  ..., 1.2272e-03, 7.9059e-04,\n",
              "         3.2380e-04],\n",
              "        ...,\n",
              "        [9.1390e-05, 1.8119e-03, 7.3820e-04,  ..., 4.9138e-04, 1.0970e-03,\n",
              "         3.0001e-04],\n",
              "        [6.0799e-04, 3.1319e-04, 3.9022e-04,  ..., 1.7920e-03, 5.4649e-04,\n",
              "         5.0780e-04],\n",
              "        [4.8949e-04, 2.2639e-03, 7.8792e-04,  ..., 6.6472e-04, 1.9889e-03,\n",
              "         3.5868e-04]], device='cuda:0')"
            ]
          },
          "execution_count": 100,
          "metadata": {},
          "output_type": "execute_result"
        }
      ],
      "source": [
        "naive_softmax(x)"
      ]
    },
    {
      "cell_type": "markdown",
      "metadata": {},
      "source": [
        "## Triton Version"
      ]
    },
    {
      "cell_type": "markdown",
      "metadata": {},
      "source": [
        "### Kernel Function"
      ]
    },
    {
      "cell_type": "code",
      "execution_count": 101,
      "metadata": {},
      "outputs": [],
      "source": [
        "# @triton.jit is the decorator to indicate that the function is a Triton kernel function\n",
        "@triton.jit\n",
        "def softmax_kernel(\n",
        "    output_ptr, \n",
        "    input_ptr,\n",
        "    input_row_stride,\n",
        "    output_row_stride,\n",
        "    n_rows,\n",
        "    n_cols,\n",
        "    BLOCK_SIZE: tl.constexpr,  # By scalar here we mean a numeric literal, a variable marked with tl.constexpr \n",
        "    num_stages: tl.constexpr,\n",
        "):\n",
        "    # Find the starting point\n",
        "    row_start = tl.program_id(0) # Returns the id of the current program instance along the given axis.\n",
        "    row_step = tl.num_programs(0) # Returns the number of program instances launched along the given axis.\n",
        "    for row_idx in tl.range(row_start, n_rows, row_step, num_stages=num_stages):\n",
        "        # ================================== num_stages ==================================\n",
        "        # On A100 GPUs, the Triton compiler uses asynchronous copy instructions (cp.async)\n",
        "        # to pipeline loop iterations and hide global memory latency. The 'num_stages'\n",
        "        # parameter controls the depth of this pipeline. That is, how many iterations of the loop\n",
        "        # are processed concurrently in different stages.\n",
        "        #\n",
        "        # For example, with num_stages = 3:\n",
        "        #   Iteration 0 starts loading data from global memory into shared memory.\n",
        "        #   Iteration 1 begins computing using data prefetched by iteration 0.\n",
        "        #   Iteration 2 might start storing results while the next iteration starts loading.\n",
        "        #\n",
        "        # This overlapping of [load] to [compute] to [store] across different loop iterations improves\n",
        "        # performance by keeping the GPU busy.\n",
        "        #\n",
        "        # However, because each streaming iteration needs its own buffer in shared memory to store\n",
        "        # prefetched data, the shared memory usage increases linearly with 'num_stages'.\n",
        "\n",
        "        # Calculate the initial pointer address using stride and row_idx\n",
        "        row_start_ptr = input_ptr + row_idx * input_row_stride\n",
        "        # BLOCK_SIZE is always a power of two\n",
        "        # Triton takes one calculation step as a whole block, so we need to calculate the whole block at a time\n",
        "        col_offsets = tl.arange(0, BLOCK_SIZE)  # Create a vector from 0 to BLOCK_SIZE\n",
        "        # Get all the starting pointer addresses for a whole block calculation\n",
        "        input_ptrs = row_start_ptr + col_offsets\n",
        "        # Foolproofing against going outside of the address limit. Since BLOCK_SIZE is always the ceiling to a power of 2,\n",
        "        # it can be larger than needed.\n",
        "        # We solve this issue by using a mask\n",
        "        mask = col_offsets < n_cols\n",
        "        # Get the data\n",
        "        row = tl.load(input_ptrs, mask=mask, other=-float('inf'))\n",
        "        # tl.load() returns a tensor of data whose values are loaded from memory at locations defined by the pointer\n",
        "        # other (Block, optional) – if mask[idx] is false, return other[idx]\n",
        "        \n",
        "        # Calculation\n",
        "        row_minus_max = row - tl.max(row, axis=0)\n",
        "        numerator = tl.exp(row_minus_max)\n",
        "        denominator = tl.sum(numerator, axis=0)\n",
        "        softmax_output = numerator / denominator\n",
        "\n",
        "        # Write back output to DRAM\n",
        "        output_row_start_ptr = output_ptr + row_idx * output_row_stride\n",
        "        output_ptrs = output_row_start_ptr + col_offsets\n",
        "        tl.store(output_ptrs, softmax_output, mask=mask)"
      ]
    },
    {
      "cell_type": "code",
      "execution_count": 102,
      "metadata": {},
      "outputs": [
        {
          "data": {
            "text/plain": [
              "array([ True,  True,  True,  True,  True,  True, False, False, False,\n",
              "       False, False, False])"
            ]
          },
          "execution_count": 102,
          "metadata": {},
          "output_type": "execute_result"
        }
      ],
      "source": [
        "import numpy as np\n",
        "np.arange(0,12) < 6"
      ]
    },
    {
      "cell_type": "markdown",
      "metadata": {},
      "source": [
        "### Host Function"
      ]
    },
    {
      "cell_type": "markdown",
      "metadata": {},
      "source": [
        "#### Get System Info"
      ]
    },
    {
      "cell_type": "code",
      "execution_count": 103,
      "metadata": {},
      "outputs": [
        {
          "name": "stdout",
          "output_type": "stream",
          "text": [
            "{'max_shared_mem': 101376, 'max_num_regs': 65536, 'multiprocessor_count': 68, 'warpSize': 32, 'sm_clock_rate': 1710000, 'mem_clock_rate': 9501000, 'mem_bus_width': 320}\n"
          ]
        }
      ],
      "source": [
        "properties = driver.active.utils.get_device_properties(DEVICE.index)\n",
        "print(properties)"
      ]
    },
    {
      "cell_type": "code",
      "execution_count": 104,
      "metadata": {},
      "outputs": [
        {
          "data": {
            "text/plain": [
              "GPUTarget(backend='cuda', arch=86, warp_size=32)"
            ]
          },
          "execution_count": 104,
          "metadata": {},
          "output_type": "execute_result"
        }
      ],
      "source": [
        "triton.runtime.driver.active.get_current_target()"
      ]
    },
    {
      "cell_type": "code",
      "execution_count": 105,
      "metadata": {},
      "outputs": [],
      "source": [
        "# GPU hardware properties retrieved from Triton backend\n",
        "# These are useful for kernel performance tuning and resource allocation.\n",
        "\n",
        "NUM_SM = properties[\"multiprocessor_count\"]\n",
        "# Number of Streaming Multiprocessors (SMs) on the GPU.\n",
        "# Each SM can run multiple warps in parallel.\n",
        "\n",
        "NUM_REGS = properties[\"max_num_regs\"]\n",
        "# Maximum number of 32-bit registers available per thread block.\n",
        "# Register pressure can limit kernel occupancy.\n",
        "\n",
        "SIZE_SMEM = properties[\"max_shared_mem\"]\n",
        "# Total shared memory (in bytes) available per block.\n",
        "# Shared memory is on-chip and much faster than global memory.\n",
        "\n",
        "WARP_SIZE = properties[\"warpSize\"]\n",
        "# Number of threads in a warp (typically 32).\n",
        "# All threads in a warp execute in lockstep.\n",
        "\n",
        "target = triton.runtime.driver.active.get_current_target()\n",
        "# Gets the active Triton compilation target (e.g., CUDA backend and architecture).\n",
        "\n",
        "kernels = {}\n",
        "# Dictionary to hold compiled or cached Triton kernels."
      ]
    },
    {
      "cell_type": "code",
      "execution_count": 106,
      "metadata": {},
      "outputs": [],
      "source": [
        "def softmax_triton(x):\n",
        "    n_rows, n_cols = x.shape\n",
        "\n",
        "    # Get BLOCK_SIZE as the next number from power of 2 on n_cols\n",
        "    BLOCK_SIZE = triton.next_power_of_2(n_cols)\n",
        "\n",
        "    num_warps = 8\n",
        "\n",
        "    num_stages = 4 if SIZE_SMEM > 200000 else 2\n",
        "\n",
        "    y = torch.empty_like(x)\n",
        "\n",
        "    # Pre-compile kernel to get register usage and compute thread occupancy\n",
        "    # softmax_kernel(output_ptr, input_ptr, input_row_stride, output_row_stride, n_rows, n_cols, BLOCK_SIZE: tl.constexpr, \n",
        "    # num_stages: tl.constexpr)\n",
        "\n",
        "    # Stride is the jump (in memory) necessary to go from one element to the next\n",
        "    # in the specified dimension `dim`. It is typically expressed in units of elements,\n",
        "    # not bytes.\n",
        "    #\n",
        "    # - If no argument is passed, a tuple of all strides (for each dimension) is returned.\n",
        "    # - If a specific dimension `dim` is provided, an integer value is returned representing\n",
        "    #   the stride along that particular dimension.\n",
        "    kernel = softmax_kernel.warmup(y, x, x.stride(0), y.stride(0), n_rows, n_cols, \n",
        "                                   BLOCK_SIZE = BLOCK_SIZE, num_stages=num_stages,\n",
        "                                   num_warps=num_warps, grid=(1,))\n",
        "    # grid=(1,) specifies that only one Triton program instance (along axis 0) should be launched.\n",
        "    # This is typically used during warmup to compile the kernel without executing a full workload.\n",
        "    # It helps ensure the kernel is JIT-compiled and cached before actual execution.\n",
        "\n",
        "    kernel._init_handles()\n",
        "    n_regs = kernel.n_regs\n",
        "    size_smem = kernel.metadata.shared\n",
        "\n",
        "    # For CUDA\n",
        "    occupancy = NUM_REGS // (n_regs * WARP_SIZE * num_warps)\n",
        "    occupancy = min(occupancy, SIZE_SMEM // size_smem)\n",
        "    num_programs = NUM_SM * occupancy\n",
        "    num_programs = min(num_programs, n_rows)\n",
        "\n",
        "    # Lanuch Kernel\n",
        "    kernel[(num_programs, 1, 1)](y, x, x.stride(0), y.stride(0), n_rows, n_cols, BLOCK_SIZE, num_stages)\n",
        "    return y\n"
      ]
    },
    {
      "cell_type": "markdown",
      "metadata": {},
      "source": [
        "## TEST"
      ]
    },
    {
      "cell_type": "code",
      "execution_count": 107,
      "metadata": {},
      "outputs": [],
      "source": [
        "torch.manual_seed(0)\n",
        "x = torch.randn(1823, 781, device=DEVICE)\n",
        "y_triton = softmax_triton(x)\n",
        "y_torch = torch.softmax(x, axis = 1)\n",
        "y_naive_softmax = naive_softmax(x)\n",
        "\n",
        "assert torch.allclose(y_triton, y_torch), (y_triton, y_torch)\n",
        "assert torch.allclose(y_triton, y_torch), \"Triton and Torch mismatch\"\n",
        "assert torch.allclose(y_triton, y_naive_softmax), \"Triton and Naive mismatch\"\n",
        "assert torch.allclose(y_torch, y_naive_softmax), \"Torch and Naive mismatch\""
      ]
    },
    {
      "cell_type": "markdown",
      "metadata": {},
      "source": [
        "## Benchmark"
      ]
    },
    {
      "cell_type": "code",
      "execution_count": 116,
      "metadata": {},
      "outputs": [],
      "source": [
        "@triton.testing.perf_report(\n",
        "    triton.testing.Benchmark(\n",
        "        x_names=['N'],\n",
        "        x_vals = [128* i for i in range(2, 100)], \n",
        "        line_arg = 'provider',\n",
        "        line_vals = ['triton', 'torch'],\n",
        "        line_names = [\n",
        "            \"Triton\",\n",
        "            \"Torch\",\n",
        "        ],\n",
        "        styles = [\n",
        "            ('blue', '-'),\n",
        "            ('green', '-'),\n",
        "        ],\n",
        "        ylabel = \"GB/s\",\n",
        "        plot_name = \"softmax-performance\",\n",
        "        args = {'M':4096}\n",
        "    )\n",
        ")\n",
        "def benchmark(M, N, provider):\n",
        "    x = torch.randn(M, N, device=DEVICE, dtype=torch.float32)\n",
        "    stream = getattr(torch, DEVICE.type).Stream()\n",
        "    getattr(torch, DEVICE.type).set_stream(stream)\n",
        "    if provider == 'torch':\n",
        "        ms = triton.testing.do_bench(lambda: torch.softmax(x, axis = -1))\n",
        "    if provider == 'triton':\n",
        "        ms = triton.testing.do_bench(lambda: softmax_triton(x))\n",
        "    \n",
        "    gbps = lambda ms: 2 * x.numel() * x.element_size() * 1e-9 / (ms * 1e-3)\n",
        "    return gbps(ms)\n"
      ]
    },
    {
      "cell_type": "code",
      "execution_count": 115,
      "metadata": {},
      "outputs": [
        {
          "data": {
            "text/plain": [
              "<module 'triton' from '/home/eeepc/Documents/test2/CS336_assignment2-systems/.venv/lib/python3.11/site-packages/triton/__init__.py'>"
            ]
          },
          "execution_count": 115,
          "metadata": {},
          "output_type": "execute_result"
        }
      ],
      "source": [
        "import importlib\n",
        "import triton\n",
        "importlib.reload(triton)\n"
      ]
    },
    {
      "cell_type": "code",
      "execution_count": 117,
      "metadata": {},
      "outputs": [
        {
          "data": {
            "image/png": "[encoded data removed]",
            "text/plain": [
              "<Figure size 640x480 with 1 Axes>"
            ]
          },
          "metadata": {},
          "output_type": "display_data"
        },
        {
          "name": "stdout",
          "output_type": "stream",
          "text": [
            "softmax-performance:\n",
            "          N      Triton       Torch\n",
            "0     256.0  313.266252  538.270423\n",
            "1     384.0  470.678707  568.734731\n",
            "2     512.0  554.854201  593.992679\n",
            "3     640.0  588.348534  618.154653\n",
            "4     768.0  603.920286  634.899230\n",
            "5     896.0  617.002792  638.079004\n",
            "6    1024.0  624.741974  648.243130\n",
            "7    1152.0  612.912143  323.914663\n",
            "8    1280.0  624.725075  358.307370\n",
            "9    1408.0  634.339753  388.259209\n",
            "10   1536.0  637.084677  414.260756\n",
            "11   1664.0  639.197380  428.744035\n",
            "12   1792.0  641.659182  458.709346\n",
            "13   1920.0  636.579877  477.986122\n",
            "14   2048.0  603.812902  505.761456\n",
            "15   2176.0  626.920126  514.407655\n",
            "16   2304.0  635.232135  539.055535\n",
            "17   2432.0  638.223700  561.108469\n",
            "18   2560.0  642.063921  579.817713\n",
            "19   2688.0  645.376742  587.468624\n",
            "20   2816.0  649.184536  598.119338\n",
            "21   2944.0  652.588757  616.082603\n",
            "22   3072.0  655.692463  619.505299\n",
            "23   3200.0  658.205427  628.931283\n",
            "24   3328.0  659.250400  640.900009\n",
            "25   3456.0  660.061645  647.956746\n",
            "26   3584.0  660.750447  655.293427\n",
            "27   3712.0  661.162210  658.861191\n",
            "28   3840.0  661.462013  666.418296\n",
            "29   3968.0  619.561458  662.848307\n",
            "30   4096.0  662.957191  676.601007\n",
            "31   4224.0  664.253579  605.358272\n",
            "32   4352.0  664.452532  631.621901\n",
            "33   4480.0  665.614203  609.079558\n",
            "34   4608.0  665.528920  629.900960\n",
            "35   4736.0  667.707949  631.626052\n",
            "36   4864.0  666.347082  647.863721\n",
            "37   4992.0  668.566294  647.810564\n",
            "38   5120.0  666.211965  660.363610\n",
            "39   5248.0  668.385681  663.107846\n",
            "40   5376.0  669.181534  668.714519\n",
            "41   5504.0  668.865263  673.217177\n",
            "42   5632.0  669.646684  627.172852\n",
            "43   5760.0  663.311431  678.512192\n",
            "44   5888.0  669.612657  673.682162\n",
            "45   6016.0  670.342926  673.506473\n",
            "46   6144.0  670.658937  673.963234\n",
            "47   6272.0  670.742937  673.295380\n",
            "48   6400.0  671.668584  672.332254\n",
            "49   6528.0  669.704291  673.488428\n",
            "50   6656.0  671.239657  673.317082\n",
            "51   6784.0  671.938389  672.571529\n",
            "52   6912.0  671.352121  673.087763\n",
            "53   7040.0  671.255453  672.111808\n",
            "54   7168.0  671.797207  672.399689\n",
            "55   7296.0  671.755168  627.753394\n",
            "56   7424.0  671.538557  672.361245\n",
            "57   7552.0  671.773673  672.741911\n",
            "58   7680.0  671.697048  672.234081\n",
            "59   7808.0  672.191505  673.284144\n",
            "60   7936.0  672.355988  671.103077\n",
            "61   8064.0  672.088345  670.768424\n",
            "62   8192.0  670.170561  673.197791\n",
            "63   8320.0  658.874259  669.465031\n",
            "64   8448.0  659.205769  669.937248\n",
            "65   8576.0  658.195839  668.993056\n",
            "66   8704.0  658.595567  669.807352\n",
            "67   8832.0  657.162162  626.770833\n",
            "68   8960.0  650.621405  670.072408\n",
            "69   9088.0  658.690638  670.364655\n",
            "70   9216.0  657.709343  670.839278\n",
            "71   9344.0  658.404947  670.821827\n",
            "72   9472.0  657.964885  671.659528\n",
            "73   9600.0  658.168558  671.844096\n",
            "74   9728.0  659.030037  672.457683\n",
            "75   9856.0  657.765990  672.575667\n",
            "76   9984.0  658.426047  673.009007\n",
            "77  10112.0  658.281550  672.991489\n",
            "78  10240.0  658.196654  630.407479\n",
            "79  10368.0  655.243667  673.957312\n",
            "80  10496.0  658.508203  674.393826\n",
            "81  10624.0  656.652453  674.724962\n",
            "82  10752.0  657.494919  674.653551\n",
            "83  10880.0  658.656839  675.019639\n",
            "84  11008.0  657.202548  674.931949\n",
            "85  11136.0  658.771688  675.391704\n",
            "86  11264.0  659.673551  675.830107\n",
            "87  11392.0  659.427424  676.166987\n",
            "88  11520.0  657.864407  676.533088\n",
            "89  11648.0  612.764782  672.602866\n",
            "90  11776.0  657.913470  676.931652\n",
            "91  11904.0  657.833654  676.940657\n",
            "92  12032.0  658.066943  677.069002\n",
            "93  12160.0  659.023393  677.688740\n",
            "94  12288.0  659.472181  665.459456\n",
            "95  12416.0  658.547506  622.351681\n",
            "96  12544.0  658.531033  612.628966\n",
            "97  12672.0  657.667304  605.450359\n"
          ]
        }
      ],
      "source": [
        "benchmark.run(show_plots=True, print_data=True)"
      ]
    }
  ],
  "metadata": {
    "kernelspec": {
      "display_name": ".venv",
      "language": "python",
      "name": "python3"
    },
    "language_info": {
      "codemirror_mode": {
        "name": "ipython",
        "version": 3
      },
      "file_extension": ".py",
      "mimetype": "text/x-python",
      "name": "python",
      "nbconvert_exporter": "python",
      "pygments_lexer": "ipython3",
      "version": "3.11.5"
    }
  },
  "nbformat": 4,
  "nbformat_minor": 0
}
