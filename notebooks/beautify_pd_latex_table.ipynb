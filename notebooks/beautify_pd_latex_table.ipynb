{
 "cells": [
  {
   "cell_type": "code",
   "execution_count": 1,
   "metadata": {},
   "outputs": [],
   "source": [
    "import pandas as pd"
   ]
  },
  {
   "cell_type": "code",
   "execution_count": 9,
   "metadata": {},
   "outputs": [],
   "source": [
    "# give me a random pd table\n",
    "import pandas as pd\n",
    "import numpy as np\n",
    "\n",
    "# Create a random pandas DataFrame\n",
    "data = {\n",
    "    'Name': ['Alice', 'Bob', 'Charlie', 'David', 'Eve'],\n",
    "    'Age': [25, 30, 35, 40, 45],\n",
    "    'Salary': [50000, 55000, 60000, 65000, 70000]\n",
    "}\n",
    "\n"
   ]
  },
  {
   "cell_type": "code",
   "execution_count": 10,
   "metadata": {},
   "outputs": [],
   "source": [
    "# put data into a pd dataframe\n",
    "\n",
    "data = pd.DataFrame(data)"
   ]
  },
  {
   "cell_type": "code",
   "execution_count": 11,
   "metadata": {},
   "outputs": [
    {
     "data": {
      "text/html": [
       "<div>\n",
       "<style scoped>\n",
       "    .dataframe tbody tr th:only-of-type {\n",
       "        vertical-align: middle;\n",
       "    }\n",
       "\n",
       "    .dataframe tbody tr th {\n",
       "        vertical-align: top;\n",
       "    }\n",
       "\n",
       "    .dataframe thead th {\n",
       "        text-align: right;\n",
       "    }\n",
       "</style>\n",
       "<table border=\"1\" class=\"dataframe\">\n",
       "  <thead>\n",
       "    <tr style=\"text-align: right;\">\n",
       "      <th></th>\n",
       "      <th>Name</th>\n",
       "      <th>Age</th>\n",
       "      <th>Salary</th>\n",
       "    </tr>\n",
       "  </thead>\n",
       "  <tbody>\n",
       "    <tr>\n",
       "      <th>0</th>\n",
       "      <td>Alice</td>\n",
       "      <td>25</td>\n",
       "      <td>50000</td>\n",
       "    </tr>\n",
       "    <tr>\n",
       "      <th>1</th>\n",
       "      <td>Bob</td>\n",
       "      <td>30</td>\n",
       "      <td>55000</td>\n",
       "    </tr>\n",
       "    <tr>\n",
       "      <th>2</th>\n",
       "      <td>Charlie</td>\n",
       "      <td>35</td>\n",
       "      <td>60000</td>\n",
       "    </tr>\n",
       "    <tr>\n",
       "      <th>3</th>\n",
       "      <td>David</td>\n",
       "      <td>40</td>\n",
       "      <td>65000</td>\n",
       "    </tr>\n",
       "    <tr>\n",
       "      <th>4</th>\n",
       "      <td>Eve</td>\n",
       "      <td>45</td>\n",
       "      <td>70000</td>\n",
       "    </tr>\n",
       "  </tbody>\n",
       "</table>\n",
       "</div>"
      ],
      "text/plain": [
       "      Name  Age  Salary\n",
       "0    Alice   25   50000\n",
       "1      Bob   30   55000\n",
       "2  Charlie   35   60000\n",
       "3    David   40   65000\n",
       "4      Eve   45   70000"
      ]
     },
     "execution_count": 11,
     "metadata": {},
     "output_type": "execute_result"
    }
   ],
   "source": [
    "data"
   ]
  },
  {
   "cell_type": "code",
   "execution_count": 9,
   "metadata": {},
   "outputs": [
    {
     "data": {
      "text/plain": [
       "'\\\\begin{tabular}{llrr}\\n\\\\toprule\\n & Name & Age & Salary \\\\\\\\\\n\\\\midrule\\n0 & Alice & 25 & 50000 \\\\\\\\\\n1 & Bob & 30 & 55000 \\\\\\\\\\n2 & Charlie & 35 & 60000 \\\\\\\\\\n3 & David & 40 & 65000 \\\\\\\\\\n4 & Eve & 45 & 70000 \\\\\\\\\\n\\\\bottomrule\\n\\\\end{tabular}\\n'"
      ]
     },
     "execution_count": 9,
     "metadata": {},
     "output_type": "execute_result"
    }
   ],
   "source": [
    "data.to_latex()"
   ]
  },
  {
   "cell_type": "code",
   "execution_count": 12,
   "metadata": {},
   "outputs": [
    {
     "name": "stdout",
     "output_type": "stream",
     "text": [
      "\\begin{tabular}{llrr}\n",
      "\\toprule\n",
      " & Name & Age & Salary \\\\\n",
      "\\midrule\n",
      "0 & Alice & 25 & 50000 \\\\\n",
      "1 & Bob & 30 & 55000 \\\\\n",
      "2 & Charlie & 35 & 60000 \\\\\n",
      "3 & David & 40 & 65000 \\\\\n",
      "4 & Eve & 45 & 70000 \\\\\n",
      "\\bottomrule\n",
      "\\end{tabular}\n",
      "\n"
     ]
    }
   ],
   "source": [
    "print(data.to_latex())"
   ]
  },
  {
   "cell_type": "code",
   "execution_count": 3,
   "metadata": {},
   "outputs": [],
   "source": [
    "import re\n",
    "\n",
    "def beautify_latex_table(\n",
    "    latex_code: str,\n",
    "    caption_name: str = \"Table Caption\",\n",
    "    midrule_lines: list = None,\n",
    "    colored_rows: list = None,\n",
    ") -> str:\n",
    "    \"\"\"\n",
    "    Beautifies LaTeX code from DataFrame.to_latex() with added table environment,\n",
    "    midrules, row coloring, and bold headers. Fixes the header formatting bug.\n",
    "\n",
    "    Parameters:\n",
    "    - latex_code (str): LaTeX string from DataFrame.to_latex()\n",
    "    - caption_name (str): Caption text for the table\n",
    "    - midrule_lines (list): List of row indices (0-based) after which to insert \\midrule\n",
    "    - colored_rows (list): List of tuples (row_index, color_name) for applying \\rowcolor\n",
    "\n",
    "    Returns:\n",
    "    - str: Formatted LaTeX table string\n",
    "    \"\"\"\n",
    "    midrule_lines = midrule_lines or []\n",
    "    colored_rows = colored_rows or []\n",
    "\n",
    "    lines = latex_code.strip().split(\"\\n\")\n",
    "\n",
    "    # Extract header index\n",
    "    header_idx = next(i for i, line in enumerate(lines) if '&' in line and '\\\\\\\\' in line)\n",
    "\n",
    "    # Bold headers correctly (exclude \\\\ from bolding)\n",
    "    header_line = lines[header_idx]\n",
    "    match = re.match(r\"(.*?\\\\\\\\)\", header_line.strip())\n",
    "    if match:\n",
    "        content = match.group(1).replace('\\\\\\\\', '')\n",
    "        headers = [f\"\\\\textbf{{{col.strip()}}}\" for col in content.split(\"&\")]\n",
    "        lines[header_idx] = \" & \".join(headers) + \" \\\\\\\\\"\n",
    "\n",
    "    # Insert midrules and row colors (process from bottom to top to avoid index shifts)\n",
    "    data_start = header_idx + 2  # skip \\midrule after header\n",
    "\n",
    "    for row_idx, color in sorted(colored_rows, key=lambda x: -x[0]):\n",
    "        insert_idx = data_start + row_idx\n",
    "        lines.insert(insert_idx, f\"\\\\rowcolor{{{color}}}\")\n",
    "\n",
    "    for mid_idx in sorted(midrule_lines, reverse=True):\n",
    "        insert_idx = data_start + mid_idx\n",
    "        lines.insert(insert_idx, \"\\\\midrule\")\n",
    "\n",
    "    # Wrap with table environment\n",
    "    table_env = [\n",
    "        \"\\\\begin{table}[h!]\",\n",
    "        \"\\\\centering\",\n",
    "        \"\\\\small\",\n",
    "        \"\\\\setlength{\\\\tabcolsep}{4pt}\",\n",
    "        *lines,\n",
    "        f\"\\\\caption{{{caption_name}}}\",\n",
    "        \"\\\\end{table}\"\n",
    "    ]\n",
    "\n",
    "    return \"\\n\".join(table_env)"
   ]
  },
  {
   "cell_type": "code",
   "execution_count": 27,
   "metadata": {},
   "outputs": [
    {
     "name": "stdout",
     "output_type": "stream",
     "text": [
      "\\begin{table}[h!]\n",
      "\\centering\n",
      "\\small\n",
      "\\setlength{\\tabcolsep}{4pt}\n",
      "\\begin{tabular}{lrr}\n",
      "\\toprule\n",
      "\\textbf{Name} & \\textbf{Age} & \\textbf{Salary} \\\\\n",
      "\\midrule\n",
      "Alice & 25 & 50000 \\\\\n",
      "Bob & 30 & 55000 \\\\\n",
      "\\midrule\n",
      "Charlie & 35 & 60000 \\\\\n",
      "\\midrule\n",
      "David & 40 & 65000 \\\\\n",
      "\\rowcolor{lightblue}\n",
      "Eve & 45 & 70000 \\\\\n",
      "\\bottomrule\n",
      "\\end{tabular}\n",
      "\\caption{Generate Test Results.}\n",
      "\\end{table}\n"
     ]
    }
   ],
   "source": [
    "latex_raw = data.to_latex(index=False)\n",
    "\n",
    "beautified = beautify_latex_table(\n",
    "    latex_code=latex_raw,\n",
    "    caption_name=\"Generate Test Results.\",\n",
    "    midrule_lines=[2, 3],\n",
    "    colored_rows=[(4, 'lightblue')]\n",
    ")\n",
    "\n",
    "print(beautified)"
   ]
  },
  {
   "cell_type": "code",
   "execution_count": 28,
   "metadata": {},
   "outputs": [
    {
     "name": "stdout",
     "output_type": "stream",
     "text": [
      "\\begin{table}[h!]\n",
      "\\centering\n",
      "\\small\n",
      "\\setlength{\\tabcolsep}{4pt}\n",
      "\\begin{tabular}{lrr}\n",
      "\\toprule\n",
      "\\textbf{Name} & \\textbf{Age} & \\textbf{Salary} \\\\\n",
      "\\midrule\n",
      "Alice & 25 & 50000 \\\\\n",
      "Bob & 30 & 55000 \\\\\n",
      "Charlie & 35 & 60000 \\\\\n",
      "David & 40 & 65000 \\\\\n",
      "Eve & 45 & 70000 \\\\\n",
      "\\bottomrule\n",
      "\\end{tabular}\n",
      "\\caption{Generate Test Results.}\n",
      "\\end{table}\n"
     ]
    }
   ],
   "source": [
    "print(beautify_latex_table(\n",
    "    latex_code=latex_raw,\n",
    "    caption_name=\"Generate Test Results.\",\n",
    "))"
   ]
  },
  {
   "cell_type": "code",
   "execution_count": 6,
   "metadata": {},
   "outputs": [
    {
     "name": "stdout",
     "output_type": "stream",
     "text": [
      "\\begin{table}[h!]\n",
      "\\centering\n",
      "\\small\n",
      "\\setlength{\\tabcolsep}{4pt}\n",
      "\\begin{tabular}{llrrrr}\n",
      "\\toprule\n",
      "\\textbf{Model} & \\textbf{Parameters} & \\textbf{MMLU} & \\textbf{GSM8K} & \\textbf{HumanEval} & \\textbf{Average} \\\\\n",
      "\\midrule\n",
      "\\rowcolor{lightblue}\n",
      "\\midrule\n",
      "GPT-4 & 1.76T & 86.400000 & 92.000000 & 67.000000 & 81.800000 \\\\\n",
      "\\rowcolor{lightgray}\n",
      "\\midrule\n",
      "Claude-3 & Unknown & 84.200000 & 88.500000 & 71.200000 & 81.300000 \\\\\n",
      "Llama-2-70B & 70B & 68.900000 & 56.800000 & 29.900000 & 51.900000 \\\\\n",
      "Mistral-7B & 7B & 64.200000 & 52.300000 & 30.100000 & 48.900000 \\\\\n",
      "Gemini-Pro & Unknown & 79.100000 & 85.700000 & 63.800000 & 76.200000 \\\\\n",
      "\\bottomrule\n",
      "\\end{tabular}\n",
      "\\caption{Model Performance Comparison Across Different Benchmarks}\n",
      "\\end{table}\n"
     ]
    }
   ],
   "source": [
    "import pandas as pd\n",
    "\n",
    "# Create a model performance comparison DataFrame\n",
    "data = {\n",
    "    'Model': ['GPT-4', 'Claude-3', 'Llama-2-70B', 'Mistral-7B', 'Gemini-Pro'],\n",
    "    'Parameters': ['1.76T', 'Unknown', '70B', '7B', 'Unknown'],\n",
    "    'MMLU': [86.4, 84.2, 68.9, 64.2, 79.1],\n",
    "    'GSM8K': [92.0, 88.5, 56.8, 52.3, 85.7],\n",
    "    'HumanEval': [67.0, 71.2, 29.9, 30.1, 63.8],\n",
    "    'Average': [81.8, 81.3, 51.9, 48.9, 76.2]\n",
    "}\n",
    "\n",
    "# Create DataFrame\n",
    "df = pd.DataFrame(data)\n",
    "\n",
    "# Generate LaTeX table with beautification\n",
    "latex_raw = df.to_latex(index=False)\n",
    "\n",
    "beautified = beautify_latex_table(\n",
    "    latex_code=latex_raw,\n",
    "    caption_name=\"Model Performance Comparison Across Different Benchmarks\",\n",
    "    midrule_lines=[1, 3],  # Add lines after top 2 models and before last 2\n",
    "    colored_rows=[(0, 'lightblue'), (1, 'lightgray')]  # Highlight top 2 models\n",
    ")\n",
    "\n",
    "print(beautified)"
   ]
  },
  {
   "cell_type": "code",
   "execution_count": 8,
   "metadata": {},
   "outputs": [
    {
     "name": "stdout",
     "output_type": "stream",
     "text": [
      "\\begin{table}[h!]\n",
      "\\centering\n",
      "\\small\n",
      "\\setlength{\\tabcolsep}{4pt}\n",
      "\\begin{tabular}{lrrrr}\n",
      "\\toprule\n",
      "\\textbf{Configuration} & \\textbf{BLEU} & \\textbf{ROUGE-L} & \\textbf{Perplexity} & \\textbf{Training Time (hrs)} \\\\\n",
      "\\midrule\n",
      "\\rowcolor{lightblue}\n",
      "\\midrule\n",
      "Full Model & 34.200000 & 42.800000 & 12.400000 & 24 \\\\\n",
      "w/o Attention & 28.700000 & 37.100000 & 18.900000 & 20 \\\\\n",
      "w/o Positional Encoding & 31.500000 & 39.600000 & 15.700000 & 22 \\\\\n",
      "w/o Layer Norm & 29.800000 & 38.200000 & 16.800000 & 18 \\\\\n",
      "w/o Residual Connections & 26.300000 & 35.700000 & 21.200000 & 16 \\\\\n",
      "\\bottomrule\n",
      "\\end{tabular}\n",
      "\\caption{Ablation Study Results on Translation Task}\n",
      "\\end{table}\n"
     ]
    }
   ],
   "source": [
    "# Ablation study table\n",
    "ablation_data = {\n",
    "    'Configuration': ['Full Model', 'w/o Attention', 'w/o Positional Encoding', 'w/o Layer Norm', 'w/o Residual Connections'],\n",
    "    'BLEU': [34.2, 28.7, 31.5, 29.8, 26.3],\n",
    "    'ROUGE-L': [42.8, 37.1, 39.6, 38.2, 35.7],\n",
    "    'Perplexity': [12.4, 18.9, 15.7, 16.8, 21.2],\n",
    "    'Training Time (hrs)': [24, 20, 22, 18, 16]\n",
    "}\n",
    "\n",
    "df_ablation = pd.DataFrame(ablation_data)\n",
    "\n",
    "# Generate beautified LaTeX table\n",
    "latex_raw_ablation = df_ablation.to_latex(index=False)\n",
    "\n",
    "beautified_ablation = beautify_latex_table(\n",
    "    latex_code=latex_raw_ablation,\n",
    "    caption_name=\"Ablation Study Results on Translation Task\",\n",
    "    midrule_lines=[1],  # Separate full model from ablated versions\n",
    "    colored_rows=[(0, 'lightblue')]  # Highlight the full model\n",
    ")\n",
    "\n",
    "print(beautified_ablation)"
   ]
  },
  {
   "cell_type": "code",
   "execution_count": null,
   "metadata": {},
   "outputs": [],
   "source": []
  },
  {
   "cell_type": "markdown",
   "metadata": {},
   "source": [
    "## Benchmark"
   ]
  },
  {
   "cell_type": "code",
   "execution_count": null,
   "metadata": {},
   "outputs": [],
   "source": [
    "import cs336_systems.benchmark as benchmark \n",
    "\n"
   ]
  },
  {
   "cell_type": "markdown",
   "metadata": {},
   "source": []
  }
 ],
 "metadata": {
  "kernelspec": {
   "display_name": ".venv",
   "language": "python",
   "name": "python3"
  },
  "language_info": {
   "codemirror_mode": {
    "name": "ipython",
    "version": 3
   },
   "file_extension": ".py",
   "mimetype": "text/x-python",
   "name": "python",
   "nbconvert_exporter": "python",
   "pygments_lexer": "ipython3",
   "version": "3.11.5"
  }
 },
 "nbformat": 4,
 "nbformat_minor": 2
}
